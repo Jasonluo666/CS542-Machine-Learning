{
 "cells": [
  {
   "cell_type": "markdown",
   "metadata": {},
   "source": [
    "# Linear Discriminant Analysis (LDA) [50 pts]\n",
    "In this part of the exercise, you will re-visit the problem of predicting whether a student gets admitted into a university. However, in this part, you will build a linear discriminant analysis (LDA) classifier for this problem.\n",
    "\n",
    "LDA is a generative model for classification that assumes the class covariances are equal. Given a training dataset of positive and negative features (x, y) with y $\\in$ {0, 1} , LDA models the data x as generated from class-conditional Gaussians:\n",
    "\n",
    "$P(x, y) = P(x|y)P(y)$ where $P(y = 1) = \\pi$ and $P(x|y) = N(x;\\mu^y,\\Sigma)$\n",
    "\n",
    "where means $\\mu^y$ are class-dependent but the covariance matrix $\\Sigma$ is class-independent (the same for all classes).\n",
    "\n",
    "A novel feature $x$ is classified as a positive if $P(y = 1|x) > P(y = 0|x)$, whichis equivalent to $a(x)\\gt0$, where the linear classifier $a(x) = w^Tx+w_0$ has weights given by $w = \\Sigma^{-1}(\\mu^1-\\mu^0)$.\n",
    "\n",
    "In practice, and in this assignment, we use $a(x)\\gt$ some threshold, or equivalently, $w^Tx>T$ for some constant $T$.\n",
    "\n",
    "As we saw in lecture, LDA and logistic regression can be expressed in the same form\n",
    "\n",
    "$P(y=1|x) = \\frac{1}{1+e^{-\\theta^Tx}}.$\n",
    "\n",
    "However, they generally produce different solutions for the parameter theta."
   ]
  },
  {
   "cell_type": "markdown",
   "metadata": {},
   "source": [
    "## Implementation\n",
    "\n",
    "In this assignment, you can assume the prior probabilities for the two classes are the same (although the number of the positive and negative samples in the training data is not the same), and that the threshold $T$ is zero. As a bonus, you are encouraged to explore how the different prior probabilities shift the decision boundary."
   ]
  },
  {
   "cell_type": "code",
   "execution_count": 1,
   "metadata": {},
   "outputs": [
    {
     "data": {
      "image/png": "[encoded data removed]",
      "text/plain": [
       "<matplotlib.figure.Figure at 0x2ab0c5a6a860>"
      ]
     },
     "metadata": {},
     "output_type": "display_data"
    }
   ],
   "source": [
    "%matplotlib inline\n",
    "import numpy as np\n",
    "import matplotlib.pyplot as plt\n",
    "import pandas as pd\n",
    "\n",
    "datafile = 'data/ex2data1.txt'\n",
    "#!head $datafile\n",
    "cols = np.loadtxt(datafile,delimiter=',',usecols=(0,1,2),unpack=True) #Read in comma separated data\n",
    "##Form the usual \"X\" matrix and \"y\" vector\n",
    "X = np.transpose(np.array(cols[:-1]))\n",
    "y = np.transpose(np.array(cols[-1:]))\n",
    "m = y.size # number of training examples\n",
    "##Insert the usual column of 1's into the \"X\" matrix\n",
    "X = np.insert(X,0,1,axis=1)\n",
    "\n",
    "#Divide the sample into two: ones with positive classification, one with null classification\n",
    "pos = np.array([X[i] for i in range(X.shape[0]) if y[i] == 1])\n",
    "neg = np.array([X[i] for i in range(X.shape[0]) if y[i] == 0])\n",
    "\n",
    "def plotData():\n",
    "    plt.figure(figsize=(10,6))\n",
    "    plt.plot(pos[:,1],pos[:,2],'k+',label='Admitted')\n",
    "    plt.plot(neg[:,1],neg[:,2],'yo',label='Not admitted')\n",
    "    plt.xlabel('Exam 1 score')\n",
    "    plt.ylabel('Exam 2 score')\n",
    "    plt.legend()\n",
    "    plt.grid(True)\n",
    "    \n",
    "plotData()"
   ]
  },
  {
   "cell_type": "markdown",
   "metadata": {},
   "source": [
    "Implement the LDA classifier by completing the code here. As an implementation detail, you should first center the positive and negative data separately, so that each has a mean equal to 0, before computing the covariance, as this tends to give a more accurate estimate. \n",
    "\n",
    "You should center the whole training data set before applying the classifier. Namely, subtract the middle value of the two classes’ means ($\\frac{1}{2}$(pos mean+neg mean)), which is on the separating plane when their prior probabilities are the same and becomes the ‘center’ of the data. [5 pts]"
   ]
  },
  {
   "cell_type": "code",
   "execution_count": 2,
   "metadata": {
    "scrolled": true
   },
   "outputs": [],
   "source": [
    "# IMPLEMENT THIS\n",
    "pos_mean = np.mean(pos[:,1:], axis=0)\n",
    "neg_mean = np.mean(neg[:,1:], axis=0)\n",
    "\n",
    "middle_value = (pos_mean + neg_mean) / 2\n",
    "\n",
    "pos_data = pos[:,1:] - middle_value\n",
    "neg_data = neg[:,1:] - middle_value"
   ]
  },
  {
   "cell_type": "markdown",
   "metadata": {},
   "source": [
    "Implement the LDA algorithm here (Compute the covariance on all data): [10 pts each for getting cov_all, w and y_lda]"
   ]
  },
  {
   "cell_type": "code",
   "execution_count": 3,
   "metadata": {
    "scrolled": true
   },
   "outputs": [
    {
     "name": "stdout",
     "output_type": "stream",
     "text": [
      "shape: (2, 2)\n",
      "w: [0.0785182  0.07571361]\n",
      "shape: (100,)\n"
     ]
    }
   ],
   "source": [
    "# IMPLEMENT THIS\n",
    "centered_data = np.concatenate((pos_data,neg_data),axis=0)\n",
    "\n",
    "cov_all = np.cov(pos_data.T) + np.cov(neg_data.T) # SHAPE: (2,2)\n",
    "w = np.matmul(np.linalg.inv(cov_all), (pos_mean - neg_mean).T)\n",
    "y_lda = np.matmul(centered_data, w) # SHAPE: (100,)\n",
    "y_lda[y_lda >= 0] = 1\n",
    "y_lda[y_lda < 0] = 0\n",
    "\n",
    "print('shape:', cov_all.shape)\n",
    "print('w:', w)\n",
    "print('shape:', y_lda.shape)"
   ]
  },
  {
   "cell_type": "markdown",
   "metadata": {},
   "source": [
    "Completing the code to compute the training set accuracy. You should get a training accuracy around 89%. [5 pts]"
   ]
  },
  {
   "cell_type": "code",
   "execution_count": 4,
   "metadata": {},
   "outputs": [
    {
     "name": "stdout",
     "output_type": "stream",
     "text": [
      "0.89\n"
     ]
    }
   ],
   "source": [
    "# IMPLEMENT THIS\n",
    " \n",
    "accuracy = np.sum(y_lda == sorted(y.flat, reverse=True)) / y.shape[0] \n",
    "print(accuracy)"
   ]
  },
  {
   "cell_type": "markdown",
   "metadata": {},
   "source": [
    "## Written Problem [10 pts]\n",
    "\n",
    "Show that the log-odds decision function a(x) for LDA\n",
    "\n",
    "$a = \\ln \\frac{p(x|C_l)p(C_l)}{p(x|C_k)p(C_k)}$\n",
    "\n",
    "is linear in x, that is, we can express $a(x)=\\theta^Tx$ for some $\\theta$. Show all your steps. Hint: This is a binary problem."
   ]
  },
  {
   "cell_type": "markdown",
   "metadata": {},
   "source": [
    "#### ANSWER:\n",
    "\n",
    "[comment]: <> (your answer below here.)\n",
    "\n",
    "### <span style=\"color:blue;\"> As we have known that, the class-conditional density for class k is: </span>\n",
    "$$ p(x|C_k) = \\frac{1}{(2\\pi)^{\\frac{p}{2}} |\\Sigma_k|^{\\frac{1}{2}}} e^{-\\frac{1}{2} (x - \\mu_k)^T \\Sigma_k^{-1} (x - \\mu_k)} $$\n",
    "\n",
    "### <span style=\"color:blue;\"> Then, we can calculate a: </span>\n",
    "$$ a = \\ln \\frac{p(x|C_l)p(C_l)}{p(x|C_k)p(C_k)} $$\n",
    "\n",
    "$$ = \\ln p(x|C_l) - \\ln p(x|C_k) + \\ln \\frac{p(C_l)}{p(C_k)} $$\n",
    "\n",
    "$$ = -\\frac{1}{2} (x - \\mu_l)^T \\Sigma_l^{-1} (x - \\mu_l) - \\ln (2\\pi)^{\\frac{p}{2}} |\\Sigma_l|^{\\frac{1}{2}} + \\frac{1}{2} (x - \\mu_k)^T \\Sigma_k^{-1} (x - \\mu_k) + \\ln (2\\pi)^{\\frac{p}{2}} |\\Sigma_k|^{\\frac{1}{2}} + const $$\n",
    "\n",
    "### <span style=\"color:blue;\"> In Linear discriminant analysis, we assume that </span> $ \\Sigma_l = \\Sigma_k = \\Sigma $\n",
    "\n",
    "$$ a = -\\frac{1}{2} (x - \\mu_l)^T \\Sigma^{-1} (x - \\mu_l) + \\frac{1}{2} (x - \\mu_k)^T \\Sigma^{-1} (x - \\mu_k) + const $$\n",
    "\n",
    "$$ = -\\frac{1}{2} (x^T \\Sigma^{-1} x - 2x^T \\Sigma^{-1} \\mu_l + \\mu_l^T \\Sigma^{-1} \\mu_l - x^T \\Sigma^{-1} x + 2x^T \\Sigma^{-1} \\mu_l - \\mu_l^T \\Sigma^{-1} \\mu_l) + const $$\n",
    "\n",
    "$$ = -\\frac{1}{2} (- 2x^T \\Sigma^{-1} (\\mu_l - \\mu_k) + \\mu_l^T \\Sigma^{-1} \\mu_l - \\mu_l^T \\Sigma^{-1} \\mu_k) + const $$\n",
    "\n",
    "### <span style=\"color:blue;\"> Finally, we got a linear function in x: </span>\n",
    "$$ = x^T \\Sigma^{-1} (\\mu_l - \\mu_k) + const_2 + const_1 $$\n",
    "\n",
    "### <span style=\"color:blue;\"> which can be expressed in: </span> $a(x)=\\theta^Tx$"
   ]
  },
  {
   "cell_type": "markdown",
   "metadata": {},
   "source": [
    "# CNN on MNIST using TensorFlow&trade; [50 pts]"
   ]
  },
  {
   "cell_type": "markdown",
   "metadata": {},
   "source": [
    "**Note 1**: The following has been verified to work with the current latest version of TensorFlow (1.11)\n",
    "\n",
    "\\* Adapted from official TensorFlow&trade; tour guide.\n",
    "\n",
    "TensorFlow is a powerful library for doing large-scale numerical computation. One of the tasks at which it excels is implementing and training deep neural networks. In this assignment you will learn the basic building blocks of a TensorFlow model while constructing a deep convolutional MNIST classifier.\n",
    "\n",
    "What you are expected to implement in this tutorial:\n",
    "\n",
    "* Create a softmax regression function that is a model for recognizing MNIST digits, based on looking at every pixel in the image\n",
    "\n",
    "* Use Tensorflow to train the model to recognize digits by having it \"look\" at thousands of examples\n",
    "\n",
    "* Check the model's accuracy with MNIST test data\n",
    "\n",
    "* Build, train, and test a multilayer convolutional neural network to improve the results\n",
    "\n",
    "Here is a diagram, created with TensorBoard, of the model we will build:\n",
    "\n",
    "![tensorflow graph](data/graph.png)\n",
    "\n",
    "## Implement Utilities\n",
    "\n",
    "### Weight Initialization\n",
    "\n",
    "To create this model, we're going to need to create a lot of weights and biases. One should generally initialize weights with a small amount of noise for symmetry breaking, and to prevent 0 gradients. Since we're using ReLU neurons, it is also good practice to initialize them with a slightly positive initial bias to avoid \"dead neurons\". Instead of doing this repeatedly while we build the model, let's create two handy functions to do it for us.\n"
   ]
  },
  {
   "cell_type": "code",
   "execution_count": 5,
   "metadata": {},
   "outputs": [],
   "source": [
    "import tempfile\n",
    "\n",
    "import tensorflow as tf\n",
    "from tensorflow.examples.tutorials.mnist import input_data\n",
    "\n",
    "tf.logging.set_verbosity(tf.logging.ERROR)\n",
    "\n",
    "def weight_variable(shape):\n",
    "    \"\"\"weight_variable generates a weight variable of a given shape.\"\"\"\n",
    "    initial = tf.truncated_normal(shape, stddev=0.1)\n",
    "    return tf.Variable(initial)\n",
    "\n",
    "\n",
    "def bias_variable(shape):\n",
    "    \"\"\"bias_variable generates a bias variable of a given shape.\"\"\"\n",
    "    initial = tf.constant(0.1, shape=shape)\n",
    "    return tf.Variable(initial)\n"
   ]
  },
  {
   "cell_type": "markdown",
   "metadata": {},
   "source": [
    "### Convolution and Pooling [5 pts]\n",
    "\n",
    "Our convolutions uses a stride of one and are zero padded so that the output is the same size as the input. Our pooling is plain old max pooling over 2x2 blocks.\n",
    "\n",
    "NOTE: FOR ALL THE FOLLOWING CODES, DO NOT IMPLEMENT YOUR OWN VERSION. USE THE BUILT-IN METHODS FROM TENSORFLOW.\n",
    "\n",
    "Take a look at [TensorFlow API Docs](https://www.tensorflow.org/api_docs/python/)."
   ]
  },
  {
   "cell_type": "code",
   "execution_count": 31,
   "metadata": {},
   "outputs": [],
   "source": [
    "# IMPLEMENT THIS\n",
    "def conv2d(x, W):\n",
    "    \"\"\"conv2d returns a 2d convolution layer with full stride.\"\"\"\n",
    "    return tf.layers.conv2d(\n",
    "                            inputs=x,\n",
    "                            filters=W,\n",
    "                            kernel_size=(5,5),\n",
    "                            strides=1,\n",
    "                            padding='same')\n",
    "\n",
    "\n",
    "def max_pool_2x2(x):\n",
    "    \"\"\"max_pool_2x2 downsamples a feature map by 2X.\"\"\"\n",
    "    return tf.layers.max_pooling2d(\n",
    "                                    inputs=x,\n",
    "                                    pool_size=(2,2),\n",
    "                                    strides=1,\n",
    "                                    padding='same')"
   ]
  },
  {
   "cell_type": "markdown",
   "metadata": {},
   "source": [
    "## Build the CNN\n",
    "\n",
    "### First Convolutional Layer[10 pts]\n",
    "\n",
    "We can now implement our first layer. It will consist of convolution, followed by max pooling. The convolution will compute 32 features for each 5x5 patch. Its weight tensor will have a shape of [5, 5, 1, 32]. The first two dimensions are the patch size, the next is the number of input channels, and the last is the number of output channels. We will also have a bias vector with a component for each output channel.\n",
    "\n",
    "To apply the layer, we first reshape x to a 4d tensor, with the second and third dimensions corresponding to image width and height, and the final dimension corresponding to the number of color channels.\n",
    "\n",
    "We then convolve x_image with the weight tensor, add the bias, apply the ReLU function, and finally max pool. The max_pool_2x2 method will reduce the image size to 14x14.\n",
    "\n",
    "### Second Convolutional Layer[5 pts]\n",
    "\n",
    "In order to build a deep network, we stack several layers of this type. The second layer will have 64 features for each 5x5 patch.\n",
    "\n",
    "### Fully Connected Layer[10 pts]\n",
    "\n",
    "Now that the image size has been reduced to 7x7, we add a fully-connected layer with 1024 neurons to allow processing on the entire image. We reshape the tensor from the pooling layer into a batch of vectors, multiply by a weight matrix, add a bias, and apply a ReLU.\n",
    "\n",
    "### SoftmaxLayer[5 pts]\n",
    "\n",
    "Finally, we add a layer of softmax regression."
   ]
  },
  {
   "cell_type": "code",
   "execution_count": 65,
   "metadata": {},
   "outputs": [],
   "source": [
    "def deepnn(x):\n",
    "    \"\"\"\n",
    "    deepnn builds the graph for a deep net for classifying digits.\n",
    "    Args:\n",
    "      x: an input tensor with the dimensions (N_examples, 784), where 784 is the\n",
    "      number of pixels in a standard MNIST image.\n",
    "    Returns:\n",
    "      A tuple (y, keep_prob). y is a tensor of shape (N_examples, 10), with values\n",
    "      equal to the logits of classifying the digit into one of 10 classes (the\n",
    "      digits 0-9). keep_prob is a scalar placeholder for the probability of\n",
    "      dropout.\n",
    "    \"\"\"\n",
    "    # Reshape to use within a convolutional neural net.\n",
    "    # Last dimension is for \"features\" - there is only one here, since images are\n",
    "    # grayscale -- it would be 3 for an RGB image, 4 for RGBA, etc.\n",
    "    with tf.name_scope('reshape'):\n",
    "        x_image = tf.reshape(x, (-1,28,28,1))\n",
    "\n",
    "    # First convolutional layer - maps one grayscale image to 32 feature maps.\n",
    "    with tf.name_scope('conv1'):\n",
    "        h_conv1 = tf.nn.relu(conv2d(x_image, 32))\n",
    "\n",
    "    # Pooling layer - downsamples by 2X.\n",
    "    with tf.name_scope('pool1'):\n",
    "        h_pool1 = max_pool_2x2(h_conv1)\n",
    "\n",
    "    # Second convolutional layer -- maps 32 feature maps to 64.\n",
    "    with tf.name_scope('conv2'):\n",
    "        h_conv2 = tf.nn.relu(conv2d(h_pool1, 64))\n",
    "\n",
    "    # Second pooling layer.\n",
    "    with tf.name_scope('pool2'):\n",
    "        h_pool2 = max_pool_2x2(h_conv2)\n",
    "\n",
    "    # Fully connected layer 1 -- after 2 round of downsampling, our 28x28 image\n",
    "    # is down to 7x7x64 feature maps -- maps this to 1024 features.\n",
    "    with tf.name_scope('fc1'):\n",
    "        h_pool2_flat = tf.contrib.layers.flatten(\n",
    "                                                h_pool2,\n",
    "                                                outputs_collections=None,\n",
    "                                                scope='pool2flat')\n",
    "        h_fc1 = tf.layers.dense(\n",
    "                                h_pool2_flat,\n",
    "                                units=1024,\n",
    "                                activation=tf.nn.relu,\n",
    "                                use_bias=True,\n",
    "                                bias_initializer=tf.zeros_initializer())\n",
    "\n",
    "    # Map the 1024 features to 10 classes, one for each digit\n",
    "    with tf.name_scope('fc2'):\n",
    "        y_conv = tf.layers.dense(\n",
    "                                h_fc1,\n",
    "                                units=10,\n",
    "                                use_bias=True,\n",
    "                                bias_initializer=tf.zeros_initializer())\n",
    "    return y_conv\n"
   ]
  },
  {
   "cell_type": "markdown",
   "metadata": {},
   "source": [
    "## Complete the Graph[10 pts]\n",
    "We start building the computation graph by creating nodes for the input images and target output classes."
   ]
  },
  {
   "cell_type": "code",
   "execution_count": 66,
   "metadata": {},
   "outputs": [
    {
     "name": "stdout",
     "output_type": "stream",
     "text": [
      "Extracting /tmp/tensorflow/mnist/input_data/train-images-idx3-ubyte.gz\n",
      "Extracting /tmp/tensorflow/mnist/input_data/train-labels-idx1-ubyte.gz\n",
      "Extracting /tmp/tensorflow/mnist/input_data/t10k-images-idx3-ubyte.gz\n",
      "Extracting /tmp/tensorflow/mnist/input_data/t10k-labels-idx1-ubyte.gz\n"
     ]
    }
   ],
   "source": [
    "# Import data\n",
    "mnist = input_data.read_data_sets('/tmp/tensorflow/mnist/input_data', one_hot=True)\n",
    "\n",
    "x = tf.placeholder(tf.float32, [None, 784])\n",
    "y_ = tf.placeholder(tf.float32, [None, 10])\n",
    "\n",
    "# Build the graph for the deep net\n",
    "y_conv = deepnn(x)"
   ]
  },
  {
   "cell_type": "markdown",
   "metadata": {},
   "source": [
    "We can specify a loss function just as easily. Loss indicates how bad the model's prediction was on a single example; we try to minimize that while training across all the examples. Here, our loss function is the cross-entropy between the target and the softmax activation function applied to the model's prediction. As in the beginners tutorial, we use the stable formulation:"
   ]
  },
  {
   "cell_type": "code",
   "execution_count": 67,
   "metadata": {},
   "outputs": [],
   "source": [
    "with tf.name_scope('loss'):\n",
    "    cross_entropy = tf.losses.softmax_cross_entropy(onehot_labels=y_, logits=y_conv)\n",
    "\n",
    "with tf.name_scope('adam_optimizer'):\n",
    "    adam_optimizer = tf.train.AdamOptimizer()\n",
    "    train_step = adam_optimizer.minimize(cross_entropy)"
   ]
  },
  {
   "cell_type": "markdown",
   "metadata": {},
   "source": [
    "First we'll figure out where we predicted the correct label. tf.argmax is an extremely useful function which gives you the index of the highest entry in a tensor along some axis. For example, tf.argmax(y,1) is the label our model thinks is most likely for each input, while tf.argmax(y\\_,1) is the true label. We can use tf.equal to check if our prediction matches the truth.\n",
    "\n",
    "That gives us a list of booleans. To determine what fraction are correct, we cast to floating point numbers and then take the mean. For example, [True, False, True, True] would become [1,0,1,1] which would become 0.75."
   ]
  },
  {
   "cell_type": "code",
   "execution_count": 71,
   "metadata": {},
   "outputs": [],
   "source": [
    "with tf.name_scope('accuracy'):\n",
    "    y_true = tf.argmax(y_,1)\n",
    "    y_pred = tf.argmax(tf.nn.softmax(y_conv),1)\n",
    "    correct_prediction = tf.equal(y_true, y_pred)\n",
    "    accuracy = tf.reduce_mean(tf.cast(correct_prediction, tf.float32))"
   ]
  },
  {
   "cell_type": "code",
   "execution_count": 72,
   "metadata": {},
   "outputs": [
    {
     "name": "stdout",
     "output_type": "stream",
     "text": [
      "Saving graph to: ./graph\n"
     ]
    }
   ],
   "source": [
    "# For saving the graph, DO NOT CHANGE.\n",
    "graph_location = './graph'\n",
    "print('Saving graph to: %s' % graph_location)\n",
    "train_writer = tf.summary.FileWriter(graph_location)\n",
    "train_writer.add_graph(tf.get_default_graph())"
   ]
  },
  {
   "cell_type": "markdown",
   "metadata": {},
   "source": [
    "## Train and Evaluate the Model[5 pts]\n",
    "\n",
    "We will use a more sophisticated ADAM optimizer instead of a Gradient Descent Optimizer.\n",
    "\n",
    "We will add logging to every 100th iteration in the training process.\n"
   ]
  },
  {
   "cell_type": "markdown",
   "metadata": {},
   "source": [
    "Feel free to run this code. Be aware that it does 20,000 training iterations and may take a while (possibly up to half an hour), depending on your processor.\n",
    "\n",
    "The final test set accuracy after running this code should be approximately 99.2%.\n",
    "\n",
    "We have learned how to quickly and easily build, train, and evaluate a fairly sophisticated deep learning model using TensorFlow."
   ]
  },
  {
   "cell_type": "code",
   "execution_count": 74,
   "metadata": {},
   "outputs": [
    {
     "name": "stdout",
     "output_type": "stream",
     "text": [
      "step 0, training accuracy 0.12\n",
      "step 100, training accuracy 0.96\n",
      "step 200, training accuracy 0.92\n",
      "step 300, training accuracy 0.94\n",
      "step 400, training accuracy 1\n",
      "step 500, training accuracy 1\n",
      "step 600, training accuracy 0.98\n",
      "step 700, training accuracy 0.94\n",
      "step 800, training accuracy 1\n",
      "step 900, training accuracy 0.98\n",
      "step 1000, training accuracy 0.98\n",
      "step 1100, training accuracy 1\n",
      "step 1200, training accuracy 1\n",
      "step 1300, training accuracy 1\n",
      "step 1400, training accuracy 1\n",
      "step 1500, training accuracy 1\n",
      "step 1600, training accuracy 1\n",
      "step 1700, training accuracy 1\n",
      "step 1800, training accuracy 1\n",
      "step 1900, training accuracy 1\n",
      "test accuracy 0.9891\n"
     ]
    }
   ],
   "source": [
    "with tf.Session() as sess:\n",
    "    sess.run(tf.global_variables_initializer())\n",
    "    for i in range(2000):\n",
    "        batch = mnist.train.next_batch(50)\n",
    "        if i % 100 == 0:\n",
    "            train_accuracy = accuracy.eval(feed_dict={x: batch[0], y_: batch[1]})\n",
    "            print('step %d, training accuracy %g' % (i, train_accuracy))\n",
    "        train_step.run(feed_dict={x: batch[0], y_: batch[1]})\n",
    "\n",
    "    print('test accuracy %g' % accuracy.eval(feed_dict={x: mnist.test.images, y_: mnist.test.labels}))\n"
   ]
  },
  {
   "cell_type": "code",
   "execution_count": null,
   "metadata": {},
   "outputs": [],
   "source": []
  }
 ],
 "metadata": {
  "kernelspec": {
   "display_name": "Python 3",
   "language": "python",
   "name": "python3"
  },
  "language_info": {
   "codemirror_mode": {
    "name": "ipython",
    "version": 3
   },
   "file_extension": ".py",
   "mimetype": "text/x-python",
   "name": "python",
   "nbconvert_exporter": "python",
   "pygments_lexer": "ipython3",
   "version": "3.6.2"
  }
 },
 "nbformat": 4,
 "nbformat_minor": 2
}
